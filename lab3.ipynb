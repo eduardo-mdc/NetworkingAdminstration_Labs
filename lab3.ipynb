{
 "cells": [
  {
   "cell_type": "markdown",
   "metadata": {},
   "source": [
    "## RCis (Cisco IOS) Configuration"
   ]
  },
  {
   "cell_type": "code",
   "execution_count": null,
   "metadata": {
    "vscode": {
     "languageId": "shellscript"
    }
   },
   "outputs": [],
   "source": [
    "# Configuring Interface f1/1\n",
    "interface FastEthernet1/1\n",
    "ip address 172.16.0.1 255.255.255.0\n",
    "no shutdown\n",
    "#Exit Interface f1/1\n",
    "exit\n",
    "\n",
    "# Specifing the reserved addresses for DHCP\n",
    "ip dhcp excluded-address 172.16.0.1 172.16.0.20\n",
    "\n",
    "# Configuring the DHCP pool\n",
    "ip dhcp pool dynamic\n",
    "    network 172.16.0.0 255.255.255.0\n",
    "    default-router 172.16.0.1\n",
    "    dns-server 192.168.123.1\n",
    "    domain-name alunos.dcc.fc.up.pt\n",
    "    lease 0 1 0\n",
    "\n",
    "ip dhcp pool manual\n",
    "    host 172.16.0.11 255.255.255.0\n",
    "    client-identifier 0100.12f3.2d58.00\n",
    "    lease 0 1 0\n",
    "\n",
    "#Exit Config Mode\n",
    "exit\n",
    "\n",
    "#Save Configuration\n",
    "write memory\n"
   ]
  },
  {
   "cell_type": "code",
   "execution_count": null,
   "metadata": {
    "vscode": {
     "languageId": "shellscript"
    }
   },
   "outputs": [],
   "source": []
  }
 ],
 "metadata": {
  "kernelspec": {
   "display_name": "Bash",
   "language": "bash",
   "name": "bash"
  },
  "language_info": {
   "codemirror_mode": "shell",
   "file_extension": ".sh",
   "mimetype": "text/x-sh",
   "name": "bash"
  },
  "orig_nbformat": 4
 },
 "nbformat": 4,
 "nbformat_minor": 2
}
