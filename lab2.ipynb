{
 "cells": [
  {
   "cell_type": "markdown",
   "metadata": {},
   "source": [
    "# LAB 2\n",
    "\n",
    "## VPCS 1"
   ]
  },
  {
   "cell_type": "code",
   "execution_count": null,
   "metadata": {
    "vscode": {
     "languageId": "shellscript"
    }
   },
   "outputs": [],
   "source": [
    "#Set IP address and default gateway\n",
    "ip 192.168.1.123/25 192.168.1.1\n"
   ]
  },
  {
   "cell_type": "markdown",
   "metadata": {},
   "source": [
    "## Router 1"
   ]
  },
  {
   "cell_type": "code",
   "execution_count": null,
   "metadata": {
    "vscode": {
     "languageId": "shellscript"
    }
   },
   "outputs": [],
   "source": [
    "# Interface Setup\n",
    "enable\n",
    "conf t\n",
    "interface FastEthernet1/0\n",
    "ip address 192.168.1.1 255.255.255.128\n",
    "no shutdown\n",
    "exit\n",
    "ip address 192.168.1.129 255.255.255.192\n",
    "no shutdown\n",
    "exit\n",
    "\n",
    "# OSPF Setup\n",
    "enable\n",
    "conf t\n",
    "\n",
    "copy running-config startup-config\n"
   ]
  },
  {
   "cell_type": "markdown",
   "metadata": {},
   "source": [
    "## Router 2 Setup"
   ]
  },
  {
   "cell_type": "code",
   "execution_count": null,
   "metadata": {
    "vscode": {
     "languageId": "shellscript"
    }
   },
   "outputs": [],
   "source": [
    "#Interface Setup\n",
    "enable\n",
    "conf t\n",
    "interface FastEthernet1/0\n",
    "ip address 192.168.1.130 255.255.255.192\n",
    "no shutdown\n",
    "exit\n",
    "\n",
    "enable\n",
    "conf t\n",
    "interface FastEthernet2/0\n",
    "ip address 192.168.50.1 255.255.255.0\n",
    "no shutdown\n",
    "exit\n",
    "\n",
    "copy running-config startup-config\n"
   ]
  }
 ],
 "metadata": {
  "kernelspec": {
   "display_name": "Bash",
   "language": "bash",
   "name": "bash"
  },
  "language_info": {
   "codemirror_mode": "shell",
   "file_extension": ".sh",
   "mimetype": "text/x-sh",
   "name": "bash"
  }
 },
 "nbformat": 4,
 "nbformat_minor": 2
}
